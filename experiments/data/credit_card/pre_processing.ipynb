{
 "cells": [
  {
   "cell_type": "code",
   "execution_count": 1,
   "metadata": {},
   "outputs": [],
   "source": [
    "import pandas as pd\n",
    "\n",
    "df = pd.read_csv('UCI_Credit_Card.csv')\n",
    "\n",
    "# Male = 0, Female = 1\n",
    "df['SEX'] = df['SEX'].apply(lambda x: 0 if x == 1 else 1)\n",
    "\n",
    "# Married = 1, Single/Others = 0\n",
    "df['MARRIAGE'] = df['MARRIAGE'].apply(lambda x: 1 if x == 1 else 0)\n",
    "\n",
    "df.to_csv('UCI_Credit_Card.csv', index=False)"
   ]
  }
 ],
 "metadata": {
  "kernelspec": {
   "display_name": "Python 3",
   "language": "python",
   "name": "python3"
  },
  "language_info": {
   "codemirror_mode": {
    "name": "ipython",
    "version": 3
   },
   "file_extension": ".py",
   "mimetype": "text/x-python",
   "name": "python",
   "nbconvert_exporter": "python",
   "pygments_lexer": "ipython3",
   "version": "3.10.12"
  }
 },
 "nbformat": 4,
 "nbformat_minor": 2
}
